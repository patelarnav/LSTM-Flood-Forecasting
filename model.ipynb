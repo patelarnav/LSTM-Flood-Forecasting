{
 "cells": [
  {
   "cell_type": "code",
   "execution_count": 2,
   "metadata": {},
   "outputs": [],
   "source": [
    "import numpy as np\n",
    "import pandas as pd\n",
    "import matplotlib.pyplot as plt\n",
    "#from sklearn.preprocessing import StandardScaler"
   ]
  },
  {
   "cell_type": "markdown",
   "metadata": {},
   "source": []
  },
  {
   "cell_type": "code",
   "execution_count": null,
   "metadata": {},
   "outputs": [],
   "source": []
  },
  {
   "cell_type": "code",
   "execution_count": null,
   "metadata": {},
   "outputs": [],
   "source": []
  },
  {
   "cell_type": "code",
   "execution_count": 7,
   "metadata": {},
   "outputs": [
    {
     "data": {
      "text/plain": [
       "0     70.550\n",
       "1     33.543\n",
       "2    132.400\n",
       "3     17.000\n",
       "4    121.571\n",
       "5     62.645\n",
       "6     32.140\n",
       "7     62.049\n",
       "8     17.000\n",
       "9     10.888\n",
       "Name: Bamnidhi, dtype: float64"
      ]
     },
     "execution_count": 7,
     "metadata": {},
     "output_type": "execute_result"
    }
   ],
   "source": [
    "start_date = pd.to_datetime('2001-06-01')\n",
    "current_date = start_date\n",
    "train=data1=pd.read_csv(f\"n_data/{current_date.strftime('%m-%d')}_data.csv\")\n",
    "train=train[:10]\n",
    "train=train.drop(train.columns[0],axis=1)\n",
    "ind=1\n",
    "temp=train.iloc[:,ind]\n",
    "temp"
   ]
  },
  {
   "cell_type": "code",
   "execution_count": 28,
   "metadata": {},
   "outputs": [],
   "source": [
    "\n",
    "def prepare_data(n_features):\n",
    "    start_date = pd.to_datetime('2001-06-01')\n",
    "    end_date = pd.to_datetime('2001-09-30')\n",
    "    current_date = start_date\n",
    "    X=[]\n",
    "    y=[]\n",
    "    X_t=[]\n",
    "    y_t=[]\n",
    "    while current_date <= end_date:\n",
    "        data1=pd.read_csv(f\"n_data/{current_date.strftime('%m-%d')}_data.csv\")\n",
    "        train=data1\n",
    "        train=train.drop(train.columns[0],axis=1)\n",
    "        for ind in range(7):\n",
    "            temp=train.iloc[:,ind]\n",
    "            #print(type(temp))\n",
    "            for start in range(len(temp)):\n",
    "                end=start+n_features\n",
    "                if end>14:\n",
    "                    break\n",
    "                if end>9:\n",
    "                    temp_X=temp[start:end]\n",
    "                    temp_y=temp[end]\n",
    "                    X_t.append(temp_X)\n",
    "                    y_t.append(temp_y)\n",
    "                else:\n",
    "                    temp_X=temp[start:end]\n",
    "                    temp_y=temp[end]\n",
    "                    X.append(temp_X)\n",
    "                    y.append(temp_y)\n",
    "\n",
    "        current_date += pd.DateOffset(days=1)\n",
    "\n",
    "    return np.array(X), np.array(y), np.array(X_t), np.array(y_t)\n",
    "\t\t        \n",
    "    \n",
    "\n",
    "    "
   ]
  },
  {
   "cell_type": "code",
   "execution_count": null,
   "metadata": {},
   "outputs": [],
   "source": [
    "X_train,y_train,X_test,y_test = prepare_data(3)"
   ]
  },
  {
   "cell_type": "code",
   "execution_count": 29,
   "metadata": {},
   "outputs": [],
   "source": []
  },
  {
   "cell_type": "code",
   "execution_count": null,
   "metadata": {},
   "outputs": [],
   "source": []
  },
  {
   "cell_type": "code",
   "execution_count": null,
   "metadata": {},
   "outputs": [],
   "source": []
  },
  {
   "cell_type": "code",
   "execution_count": null,
   "metadata": {},
   "outputs": [],
   "source": []
  },
  {
   "cell_type": "code",
   "execution_count": null,
   "metadata": {},
   "outputs": [],
   "source": []
  },
  {
   "cell_type": "code",
   "execution_count": null,
   "metadata": {},
   "outputs": [],
   "source": []
  },
  {
   "cell_type": "code",
   "execution_count": null,
   "metadata": {},
   "outputs": [],
   "source": []
  },
  {
   "cell_type": "code",
   "execution_count": null,
   "metadata": {},
   "outputs": [],
   "source": []
  },
  {
   "cell_type": "code",
   "execution_count": null,
   "metadata": {},
   "outputs": [],
   "source": []
  },
  {
   "cell_type": "code",
   "execution_count": 1,
   "metadata": {},
   "outputs": [
    {
     "ename": "NameError",
     "evalue": "name 'pd' is not defined",
     "output_type": "error",
     "traceback": [
      "\u001b[1;31m---------------------------------------------------------------------------\u001b[0m",
      "\u001b[1;31mNameError\u001b[0m                                 Traceback (most recent call last)",
      "Cell \u001b[1;32mIn[1], line 1\u001b[0m\n\u001b[1;32m----> 1\u001b[0m start_date \u001b[39m=\u001b[39m pd\u001b[39m.\u001b[39mto_datetime(\u001b[39m'\u001b[39m\u001b[39m2001-06-01\u001b[39m\u001b[39m'\u001b[39m)\n\u001b[0;32m      3\u001b[0m data1\u001b[39m=\u001b[39mpd\u001b[39m.\u001b[39mread_csv(\u001b[39mf\u001b[39m\u001b[39m\"\u001b[39m\u001b[39mdata/\u001b[39m\u001b[39m{\u001b[39;00mstart_date\u001b[39m.\u001b[39mstrftime(\u001b[39m'\u001b[39m\u001b[39m%\u001b[39m\u001b[39mm-\u001b[39m\u001b[39m%d\u001b[39;00m\u001b[39m'\u001b[39m)\u001b[39m}\u001b[39;00m\u001b[39m_data.csv\u001b[39m\u001b[39m\"\u001b[39m)\n",
      "\u001b[1;31mNameError\u001b[0m: name 'pd' is not defined"
     ]
    }
   ],
   "source": []
  },
  {
   "cell_type": "code",
   "execution_count": null,
   "metadata": {},
   "outputs": [],
   "source": []
  }
 ],
 "metadata": {
  "kernelspec": {
   "display_name": "lstm",
   "language": "python",
   "name": "python3"
  },
  "language_info": {
   "codemirror_mode": {
    "name": "ipython",
    "version": 3
   },
   "file_extension": ".py",
   "mimetype": "text/x-python",
   "name": "python",
   "nbconvert_exporter": "python",
   "pygments_lexer": "ipython3",
   "version": "3.8.16"
  },
  "orig_nbformat": 4
 },
 "nbformat": 4,
 "nbformat_minor": 2
}
