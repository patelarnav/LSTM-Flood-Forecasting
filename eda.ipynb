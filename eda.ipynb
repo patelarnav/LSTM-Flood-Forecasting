{
 "cells": [
  {
   "cell_type": "code",
   "execution_count": 1,
   "metadata": {},
   "outputs": [],
   "source": [
    "import numpy as np\n",
    "import pandas as pd\n",
    "import matplotlib.pyplot as plt\n",
    "%matplotlib inline"
   ]
  },
  {
   "cell_type": "code",
   "execution_count": 2,
   "metadata": {},
   "outputs": [],
   "source": [
    "#Run after data_preparation.ipynb has been run"
   ]
  },
  {
   "cell_type": "code",
   "execution_count": null,
   "metadata": {},
   "outputs": [],
   "source": [
    "start_date = pd.to_datetime('2001-06-01')\n",
    "end_date = pd.to_datetime('2001-09-30')\n",
    "\n",
    "# Iterate over each date and create separate atables\n",
    "current_date = start_date\n",
    "while current_date <= end_date:\n",
    "    data1=pd.read_csv(f\"n_data/{current_date.strftime('%m-%d')}_data.csv\")\n",
    "    fig, ax=plt.subplots(figsize=(16,4))\n",
    "    ax.plot(data1['Date'],data1['Andhiyarkhore'],'r')\n",
    "    ax.plot(data1['Date'],data1['Bamnidhi'],'b')\n",
    "    ax.plot(data1['Date'],data1['Basantpur'],'g')\n",
    "    ax.plot(data1['Date'],data1['Ghatora'],'y')\n",
    "    ax.plot(data1['Date'],data1['Rajim'],'m')\n",
    "    ax.plot(data1['Date'],data1['Rampur'],'k')\n",
    "    ax.plot(data1['Date'],data1['Simga'],'c')\n",
    "    ax.set_xlabel('Date')\n",
    "    ax.set_ylabel('Flow')\n",
    "\n",
    "    # Move to the next date\n",
    "    current_date += pd.DateOffset(days=1)"
   ]
  }
 ],
 "metadata": {
  "kernelspec": {
   "display_name": "lstm",
   "language": "python",
   "name": "python3"
  },
  "language_info": {
   "codemirror_mode": {
    "name": "ipython",
    "version": 3
   },
   "file_extension": ".py",
   "mimetype": "text/x-python",
   "name": "python",
   "nbconvert_exporter": "python",
   "pygments_lexer": "ipython3",
   "version": "3.8.16"
  },
  "orig_nbformat": 4
 },
 "nbformat": 4,
 "nbformat_minor": 2
}
